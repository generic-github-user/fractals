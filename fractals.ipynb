{
 "cells": [
  {
   "cell_type": "markdown",
   "id": "ade32f24-6bd0-4817-9cdd-4640e0673035",
   "metadata": {},
   "source": [
    "# Fractals\n",
    "\n",
    "Generation of Mandelbrots, Multibrots, and other fractals with Python"
   ]
  },
  {
   "cell_type": "code",
   "execution_count": 182,
   "id": "79ebbbdf-8819-4207-b064-c64ae40f0d08",
   "metadata": {},
   "outputs": [],
   "source": [
    "import matplotlib.pyplot as plt\n",
    "import numpy as np\n",
    "from itertools import product\n",
    "import math"
   ]
  },
  {
   "cell_type": "code",
   "execution_count": 207,
   "id": "7451de1d-04d4-4b09-bafe-1ab7dfe8da54",
   "metadata": {},
   "outputs": [
    {
     "data": {
      "text/plain": [
       "11.180339887498949"
      ]
     },
     "execution_count": 207,
     "metadata": {},
     "output_type": "execute_result"
    }
   ],
   "source": [
    "abs(complex(-5, -10))"
   ]
  },
  {
   "cell_type": "code",
   "execution_count": 219,
   "id": "730feb95-224c-4e61-96c6-9a9ae4aa3e20",
   "metadata": {},
   "outputs": [],
   "source": [
    "def tile(ims, n, d):\n",
    "    ims = np.reshape(ims, [*n, *d])\n",
    "    combined = np.concatenate(np.concatenate(ims, axis=2), axis=0)\n",
    "    return combined\n",
    "\n",
    "log = math.log\n",
    "def norm(x, i):\n",
    "#     print(x)\n",
    "    if x == 0:\n",
    "        y = 0\n",
    "    else:\n",
    "        y = i + 1 - log(abs(log(x))) / log(10e5)\n",
    "    return y\n",
    "\n",
    "def generate(z=0, d=2, b=10e5, n=20, o=(-0.5, -0.5), m=4, r=(100, 200)):\n",
    "    canvas = np.zeros(r)\n",
    "    for x, y in np.ndindex(canvas.shape):\n",
    "        z_ = z\n",
    "        c = (complex(y, x) / r[0] + complex(*o)) * m\n",
    "        for i in range(n):\n",
    "            z_ = z_ ** d + c\n",
    "            if abs(z_) > b:\n",
    "#                 canvas[x, y] += i\n",
    "                canvas[x, y] = norm(abs(z_), n)\n",
    "                break\n",
    "                \n",
    "    return canvas"
   ]
  },
  {
   "cell_type": "code",
   "execution_count": 220,
   "id": "4a4d5284-a478-4f94-beea-54de3c3c5128",
   "metadata": {},
   "outputs": [
    {
     "data": {
      "text/plain": [
       "(-0.5, 599.5, 299.5, -0.5)"
      ]
     },
     "execution_count": 220,
     "metadata": {},
     "output_type": "execute_result"
    },
    {
     "data": {
      "image/png": "[encoded data removed]",
      "text/plain": [
       "<Figure size 720x720 with 1 Axes>"
      ]
     },
     "metadata": {
      "needs_background": "light"
     },
     "output_type": "display_data"
    }
   ],
   "source": [
    "class FractalSet:\n",
    "    def __init__(self, **kwargs):\n",
    "        self.fractals = []\n",
    "#         w = {a:b for (a, b) in kwargs.items() if type(b[0]) in [int, float]}\n",
    "        w = {}\n",
    "        self.fixed = {}\n",
    "        for a, b in kwargs.items():\n",
    "#             if type(b[0]) in [int, float]:\n",
    "#             if len(b) == 3:\n",
    "            if a not in 'r' and type(b) in [list, tuple]:\n",
    "                if len(b) == 2:\n",
    "                    b.append(kwargs['q'])\n",
    "                w[a] = b\n",
    "            elif a not in 'q':\n",
    "                self.fixed[a] = b\n",
    "        self.mdims = [b[-1] for a, b in w.items()]\n",
    "        self.params = product(*[np.linspace(*b) for a, b in w.items()])\n",
    "    \n",
    "    def render(self, **kwargs):\n",
    "        for p in self.params:\n",
    "            self.fractals.append(generate(*p, **self.fixed))\n",
    "        composite = self.fractals\n",
    "        if 'axes' in kwargs and kwargs['axes']:\n",
    "            print(kwargs['axes'][0])\n",
    "            composite = kwargs['axes'][0](self.fractals, axis=0)\n",
    "            self.mdims = [1, 1]\n",
    "        composite = tile(composite, self.mdims, self.fixed['r'])\n",
    "        return composite\n",
    "    \n",
    "    def __call__(self, **kwargs):\n",
    "        return self.render(**kwargs)\n",
    "    \n",
    "f = generate(r=(300, 600), b=1000, n=30, o=(-1, -0.5), m=2)\n",
    "# f = FractalSet(z=[0, 1.5], d=[1, 5], r=[200]*2, q=10)(axes=[])\n",
    "fig = plt.figure(figsize=(10, 10))\n",
    "ax = fig.add_subplot()\n",
    "ax.imshow(f, cmap='plasma')\n",
    "plt.axis('off')\n",
    "# list or dict for params?\n",
    "\n",
    "# TODO: multicolored fractals"
   ]
  },
  {
   "cell_type": "code",
   "execution_count": null,
   "id": "44577e86-bace-4b06-bb6a-31a82d2a2b39",
   "metadata": {},
   "outputs": [],
   "source": []
  }
 ],
 "metadata": {
  "kernelspec": {
   "display_name": "Python 3",
   "language": "python",
   "name": "python3"
  },
  "language_info": {
   "codemirror_mode": {
    "name": "ipython",
    "version": 3
   },
   "file_extension": ".py",
   "mimetype": "text/x-python",
   "name": "python",
   "nbconvert_exporter": "python",
   "pygments_lexer": "ipython3",
   "version": "3.9.4"
  },
  "toc-showcode": true,
  "toc-showtags": true
 },
 "nbformat": 4,
 "nbformat_minor": 5
}
