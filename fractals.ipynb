{
 "cells": [
  {
   "cell_type": "markdown",
   "id": "ade32f24-6bd0-4817-9cdd-4640e0673035",
   "metadata": {},
   "source": [
    "# Fractals\n",
    "\n",
    "Generation of Mandelbrots, Multibrots, and other fractals with Python"
   ]
  },
  {
   "cell_type": "code",
   "execution_count": 182,
   "id": "79ebbbdf-8819-4207-b064-c64ae40f0d08",
   "metadata": {},
   "outputs": [],
   "source": [
    "import matplotlib.pyplot as plt\n",
    "import numpy as np\n",
    "from itertools import product\n",
    "import math"
   ]
  },
  {
   "cell_type": "code",
   "execution_count": 207,
   "id": "7451de1d-04d4-4b09-bafe-1ab7dfe8da54",
   "metadata": {},
   "outputs": [
    {
     "data": {
      "text/plain": [
       "11.180339887498949"
      ]
     },
     "execution_count": 207,
     "metadata": {},
     "output_type": "execute_result"
    }
   ],
   "source": [
    "abs(complex(-5, -10))"
   ]
  },
  {
   "cell_type": "code",
   "execution_count": 321,
   "id": "730feb95-224c-4e61-96c6-9a9ae4aa3e20",
   "metadata": {},
   "outputs": [],
   "source": [
    "def tile(ims, n, d):\n",
    "    ims = np.reshape(ims, [*n, *d])\n",
    "    combined = np.concatenate(np.concatenate(ims, axis=2), axis=0)\n",
    "    return combined\n",
    "\n",
    "log = math.log\n",
    "class Fractal:\n",
    "    def __init__(self, z=0, d=2, b=10e5, n=20, o=(-0.5, -0.5), m=4, r=(100, 200)):\n",
    "        if type(r) is int:\n",
    "            r = [r] * 2\n",
    "        self.r = np.array(r)\n",
    "        canvas = np.zeros(r)\n",
    "        iterations = np.zeros(r)\n",
    "        for x, y in np.ndindex(canvas.shape):\n",
    "            z_ = z\n",
    "            c = (complex(y, x) / r[0] + complex(*o)) * m\n",
    "            for i in range(n):\n",
    "                z_ = z_ ** d + c\n",
    "                if abs(z_) > b:\n",
    "    #                 canvas[x, y] += i\n",
    "                    canvas[x, y] = self.norm(abs(z_), i)\n",
    "                    iterations[x, y] = i\n",
    "                    break\n",
    "\n",
    "        print(iterations)\n",
    "        canvas = self.scale(canvas, iterations.min(), iterations.max())\n",
    "        self.canvas = canvas ** (1/2)\n",
    "\n",
    "#         return canvas\n",
    "\n",
    "    def norm(self, x, i):\n",
    "    #     print(x)\n",
    "        if x == 0:\n",
    "            y = 0\n",
    "        else:\n",
    "            y = i + 1 - log(abs(log(x))) / log(2)\n",
    "        return y\n",
    "\n",
    "    def scale(self, x, a, b):\n",
    "        return (x - a) / (b - a)\n",
    "    \n",
    "    def render(self):\n",
    "        return self.canvas\n",
    "    \n",
    "    def find_regions(self, func=np.var, num=5):\n",
    "        blocks = []\n",
    "        w, h = np.array(self.r / num, dtype=int)\n",
    "        for a in range(num):\n",
    "            for b in range(num):\n",
    "                block = self.canvas[a*h: (a+1)*h, b*w: (b+1)*w]\n",
    "                variance = func(block)\n",
    "                blocks.append([a, b, w, h, variance])\n",
    "        return blocks\n",
    "    \n",
    "    def autozoom(self):\n",
    "        region = self.find_regions()\n",
    "        region.sort(key=lambda x: x[-1], reverse=True)\n",
    "        region = region[0]\n",
    "        a, b, w, h, v = region\n",
    "        region = self.canvas[a*h: (a+1)*h, b*w: (b+1)*w]\n",
    "        return region\n",
    "    \n",
    "    def __call__(self):\n",
    "        return self.render()\n",
    "\n"
   ]
  },
  {
   "cell_type": "code",
   "execution_count": 322,
   "id": "4a4d5284-a478-4f94-beea-54de3c3c5128",
   "metadata": {},
   "outputs": [
    {
     "name": "stdout",
     "output_type": "stream",
     "text": [
      "[[2. 2. 2. ... 2. 2. 2.]\n",
      " [2. 2. 2. ... 2. 2. 2.]\n",
      " [2. 2. 2. ... 2. 2. 2.]\n",
      " ...\n",
      " [2. 2. 2. ... 2. 2. 2.]\n",
      " [2. 2. 2. ... 2. 2. 2.]\n",
      " [2. 2. 2. ... 2. 2. 2.]]\n"
     ]
    },
    {
     "data": {
      "text/plain": [
       "(-0.5, 99.5, 99.5, -0.5)"
      ]
     },
     "execution_count": 322,
     "metadata": {},
     "output_type": "execute_result"
    },
    {
     "data": {
      "image/png": "[encoded data removed]",
      "text/plain": [
       "<Figure size 720x720 with 1 Axes>"
      ]
     },
     "metadata": {
      "needs_background": "light"
     },
     "output_type": "display_data"
    }
   ],
   "source": [
    "class FractalSet:\n",
    "    def __init__(self, **kwargs):\n",
    "        self.fractals = []\n",
    "#         w = {a:b for (a, b) in kwargs.items() if type(b[0]) in [int, float]}\n",
    "        w = {}\n",
    "        self.fixed = {}\n",
    "        for a, b in kwargs.items():\n",
    "#             if type(b[0]) in [int, float]:\n",
    "#             if len(b) == 3:\n",
    "            if a not in 'r' and type(b) in [list, tuple]:\n",
    "                if len(b) == 2:\n",
    "                    b.append(kwargs['q'])\n",
    "                w[a] = b\n",
    "            elif a not in 'q':\n",
    "                self.fixed[a] = b\n",
    "        self.mdims = [b[-1] for a, b in w.items()]\n",
    "        self.params = product(*[np.linspace(*b) for a, b in w.items()])\n",
    "    \n",
    "    def render(self, **kwargs):\n",
    "        for p in self.params:\n",
    "            self.fractals.append(generate(*p, **self.fixed))\n",
    "        composite = self.fractals\n",
    "        if 'axes' in kwargs and kwargs['axes']:\n",
    "            print(kwargs['axes'][0])\n",
    "            composite = kwargs['axes'][0](self.fractals, axis=0)\n",
    "            self.mdims = [1, 1]\n",
    "        composite = tile(composite, self.mdims, self.fixed['r'])\n",
    "        return composite\n",
    "    \n",
    "    def __call__(self, **kwargs):\n",
    "        return self.render(**kwargs)\n",
    "    \n",
    "# f = generate(r=(500, 1000), b=10, n=30, o=(-1, -0.5), m=2)\n",
    "f = Fractal(r=(500, 1000), b=10, n=30, o=(-1, -0.5), m=2)\n",
    "# f = FractalSet(z=[0, 1.5], d=[1, 5], r=[200]*2, q=10)(axes=[])\n",
    "# print(f.find_regions())\n",
    "block = f.autozoom()\n",
    "f = f()\n",
    "fig = plt.figure(figsize=(10, 10))\n",
    "ax = fig.add_subplot()\n",
    "# ax.imshow(f, cmap='plasma')\n",
    "ax.imshow(block)\n",
    "plt.axis('off')\n",
    "# list or dict for params?\n",
    "\n",
    "# TODO: multicolored fractals"
   ]
  },
  {
   "cell_type": "code",
   "execution_count": 300,
   "id": "f292642c-c9aa-44c0-8896-ab8557c48171",
   "metadata": {},
   "outputs": [
    {
     "data": {
      "text/plain": [
       "0.08899599578759824"
      ]
     },
     "execution_count": 300,
     "metadata": {},
     "output_type": "execute_result"
    }
   ],
   "source": [
    "np.var(np.random.uniform(0, 1, [5, 5, 3]))"
   ]
  },
  {
   "cell_type": "code",
   "execution_count": 247,
   "id": "44577e86-bace-4b06-bb6a-31a82d2a2b39",
   "metadata": {},
   "outputs": [
    {
     "data": {
      "text/plain": [
       "array([[0.00000000e+000, 0.00000000e+000, 0.00000000e+000, ...,\n",
       "        0.00000000e+000, 0.00000000e+000, 0.00000000e+000],\n",
       "       [0.00000000e+000, 0.00000000e+000, 0.00000000e+000, ...,\n",
       "        0.00000000e+000, 0.00000000e+000, 0.00000000e+000],\n",
       "       [0.00000000e+000, 0.00000000e+000, 0.00000000e+000, ...,\n",
       "        0.00000000e+000, 0.00000000e+000, 0.00000000e+000],\n",
       "       ...,\n",
       "       [2.84248223e-263, 8.24974972e-262, 2.39439343e-260, ...,\n",
       "        5.14606062e-180, 1.49154857e-178, 4.32326186e-177],\n",
       "       [1.57497566e-175, 4.57075020e-174, 1.32651107e-172, ...,\n",
       "        2.85279246e-092, 8.26873246e-091, 2.39672777e-089],\n",
       "       [8.72706032e-088, 2.53253729e-086, 7.34939887e-085, ...,\n",
       "        1.58147028e-004, 4.58391210e-003, 1.32868456e-001]])"
      ]
     },
     "execution_count": 247,
     "metadata": {},
     "output_type": "execute_result"
    }
   ],
   "source": [
    "f"
   ]
  },
  {
   "cell_type": "code",
   "execution_count": null,
   "id": "23035607-e344-40f4-a2fc-94fb355c9d5d",
   "metadata": {},
   "outputs": [],
   "source": []
  }
 ],
 "metadata": {
  "kernelspec": {
   "display_name": "Python 3",
   "language": "python",
   "name": "python3"
  },
  "language_info": {
   "codemirror_mode": {
    "name": "ipython",
    "version": 3
   },
   "file_extension": ".py",
   "mimetype": "text/x-python",
   "name": "python",
   "nbconvert_exporter": "python",
   "pygments_lexer": "ipython3",
   "version": "3.9.4"
  },
  "toc-showcode": true,
  "toc-showtags": true
 },
 "nbformat": 4,
 "nbformat_minor": 5
}
